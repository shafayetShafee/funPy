{
 "cells": [
  {
   "cell_type": "markdown",
   "id": "90e72450",
   "metadata": {},
   "source": [
    "## Functions as objects"
   ]
  },
  {
   "cell_type": "markdown",
   "id": "77c65405",
   "metadata": {},
   "source": [
    "Python functions are first class objects. This means that functions can be stored in variables, referenced in lists, passed in and passed out of functions as parameters and return values."
   ]
  },
  {
   "cell_type": "code",
   "execution_count": 1,
   "id": "272c2f86",
   "metadata": {},
   "outputs": [],
   "source": [
    "a = \"apple\"\n",
    "b = \"pear\""
   ]
  },
  {
   "cell_type": "markdown",
   "id": "0a964cc3",
   "metadata": {},
   "source": [
    "If we loosely say that the string \"apple\" is stored in variable `a` and string \"pear\" is stored in variable `b`, we would be wrong. In fact, python stores both of the string objects somewhere in the memory. Variables `a` and `b` simply contains the reference to those memory addresses that contains these two string objects. "
   ]
  },
  {
   "cell_type": "code",
   "execution_count": 3,
   "id": "3a23da36",
   "metadata": {},
   "outputs": [
    {
     "name": "stdout",
     "output_type": "stream",
     "text": [
      "id of a: 1881347360624\n",
      "id of b: 1881342823152\n"
     ]
    }
   ],
   "source": [
    "print(f\"id of a: {id(a)}\")\n",
    "print(f\"id of b: {id(b)}\")"
   ]
  },
  {
   "cell_type": "code",
   "execution_count": 4,
   "id": "18d29d36",
   "metadata": {},
   "outputs": [],
   "source": [
    "a = 10\n",
    "\n",
    "def square(x):\n",
    "    return x*x\n",
    "\n",
    "b = square(10)"
   ]
  },
  {
   "cell_type": "markdown",
   "id": "d4fb929e",
   "metadata": {},
   "source": [
    "Here `a`, `b` and `square` are all just variables. `def` block just assigning the function to variable `square`."
   ]
  },
  {
   "cell_type": "code",
   "execution_count": 5,
   "id": "b466b290",
   "metadata": {},
   "outputs": [
    {
     "name": "stdout",
     "output_type": "stream",
     "text": [
      "<class 'function'>\n",
      "1881346878208\n",
      "<function square at 0x000001B609032B00>\n"
     ]
    }
   ],
   "source": [
    "print(type(square))\n",
    "print(id(square))\n",
    "print(str(square))"
   ]
  },
  {
   "cell_type": "markdown",
   "id": "fc3e3897",
   "metadata": {},
   "source": [
    "**Aliasing** is when two variables holds the reference to the same object in memory. So we create alias of functions too. (Though we should not!)"
   ]
  },
  {
   "cell_type": "code",
   "execution_count": 7,
   "id": "0b5a3454",
   "metadata": {},
   "outputs": [
    {
     "name": "stdout",
     "output_type": "stream",
     "text": [
      "Helllo yolo\n",
      "\n",
      "9\n"
     ]
    }
   ],
   "source": [
    "pr = print\n",
    "pr(\"Helllo yolo\")\n",
    "pr(\"\")\n",
    "\n",
    "sq = square\n",
    "print(sq(3))"
   ]
  },
  {
   "cell_type": "markdown",
   "id": "f750e48c",
   "metadata": {},
   "source": [
    "### function as parameters"
   ]
  },
  {
   "cell_type": "code",
   "execution_count": 9,
   "id": "93767fb7",
   "metadata": {},
   "outputs": [
    {
     "name": "stdout",
     "output_type": "stream",
     "text": [
      "3  =>  7.62\n"
     ]
    }
   ],
   "source": [
    "def inch2cm(x):\n",
    "    return x*2.54\n",
    "\n",
    "def convert(f, x):\n",
    "    y = f(x)\n",
    "    print(x, \" => \", y)\n",
    "    \n",
    "convert(inch2cm, 3)"
   ]
  },
  {
   "cell_type": "markdown",
   "id": "66c0325f",
   "metadata": {},
   "source": [
    "A nice example of passing function as arg is python `sorted` function, where we pass a function object via `key` argument and python sort the list based on the return value of that passed function.\n",
    "\n",
    "Say we want to sort a list of string based on their length."
   ]
  },
  {
   "cell_type": "code",
   "execution_count": 10,
   "id": "8e8261da",
   "metadata": {},
   "outputs": [
    {
     "data": {
      "text/plain": [
       "['red', 'blue', 'green', 'orange yellow']"
      ]
     },
     "execution_count": 10,
     "metadata": {},
     "output_type": "execute_result"
    }
   ],
   "source": [
    "p = [\"green\", \"red\", \"blue\", \"orange yellow\"]\n",
    "\n",
    "q = sorted(p, key=len)\n",
    "\n",
    "q"
   ]
  },
  {
   "cell_type": "code",
   "execution_count": 23,
   "id": "0852df89",
   "metadata": {},
   "outputs": [
    {
     "data": {
      "text/plain": [
       "[(3, 3), (4, 2), (2, 2), (5, 2), (1, 7)]"
      ]
     },
     "execution_count": 23,
     "metadata": {},
     "output_type": "execute_result"
    }
   ],
   "source": [
    "def area(x):\n",
    "    return x[0]*x[1]\n",
    "\n",
    "p = list(zip([3, 4, 2, 5, 1], [3, 2, 2, 2, 7]))\n",
    "\n",
    "p"
   ]
  },
  {
   "cell_type": "code",
   "execution_count": 24,
   "id": "874b8d91",
   "metadata": {},
   "outputs": [
    {
     "data": {
      "text/plain": [
       "[(2, 2), (1, 7), (4, 2), (3, 3), (5, 2)]"
      ]
     },
     "execution_count": 24,
     "metadata": {},
     "output_type": "execute_result"
    }
   ],
   "source": [
    "q = sorted(p, key = area)\n",
    "\n",
    "q"
   ]
  },
  {
   "cell_type": "markdown",
   "id": "917c0d73",
   "metadata": {},
   "source": [
    "**Using lambda functions**: we can also use lambda functions"
   ]
  },
  {
   "cell_type": "code",
   "execution_count": 25,
   "id": "051a9ae9",
   "metadata": {},
   "outputs": [
    {
     "data": {
      "text/plain": [
       "[(2, 2), (1, 7), (4, 2), (3, 3), (5, 2)]"
      ]
     },
     "execution_count": 25,
     "metadata": {},
     "output_type": "execute_result"
    }
   ],
   "source": [
    "area1 = lambda x: x[0]*x[1]\n",
    "\n",
    "q = sorted(p, key = area1)\n",
    "\n",
    "q"
   ]
  },
  {
   "cell_type": "code",
   "execution_count": 27,
   "id": "1680ae27",
   "metadata": {},
   "outputs": [
    {
     "data": {
      "text/plain": [
       "[(2, 2), (1, 7), (4, 2), (3, 3), (5, 2)]"
      ]
     },
     "execution_count": 27,
     "metadata": {},
     "output_type": "execute_result"
    }
   ],
   "source": [
    "sorted(p, key = lambda x: x[0]*x[1])"
   ]
  },
  {
   "cell_type": "markdown",
   "id": "ce38491e",
   "metadata": {},
   "source": [
    "### Python version of standard operators"
   ]
  },
  {
   "cell_type": "code",
   "execution_count": 32,
   "id": "6f4a67da",
   "metadata": {},
   "outputs": [
    {
     "data": {
      "text/plain": [
       "True"
      ]
     },
     "execution_count": 32,
     "metadata": {},
     "output_type": "execute_result"
    }
   ],
   "source": [
    "import operator\n",
    "\n",
    "operator.add(1, 2)\n",
    "operator.contains([1, 2, 3], 3)"
   ]
  },
  {
   "cell_type": "code",
   "execution_count": 33,
   "id": "08f3006a",
   "metadata": {},
   "outputs": [
    {
     "data": {
      "text/plain": [
       "7"
      ]
     },
     "execution_count": 33,
     "metadata": {},
     "output_type": "execute_result"
    }
   ],
   "source": [
    "add = lambda x, y: x + y\n",
    "\n",
    "from functools import partial\n",
    "\n",
    "f = partial(add, 3)\n",
    "\n",
    "f(4)"
   ]
  }
 ],
 "metadata": {
  "kernelspec": {
   "display_name": "Python 3 (ipykernel)",
   "language": "python",
   "name": "python3"
  },
  "language_info": {
   "codemirror_mode": {
    "name": "ipython",
    "version": 3
   },
   "file_extension": ".py",
   "mimetype": "text/x-python",
   "name": "python",
   "nbconvert_exporter": "python",
   "pygments_lexer": "ipython3",
   "version": "3.10.6"
  }
 },
 "nbformat": 4,
 "nbformat_minor": 5
}
